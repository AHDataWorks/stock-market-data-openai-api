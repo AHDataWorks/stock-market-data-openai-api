{
 "cells": [
  {
   "cell_type": "markdown",
   "id": "1c31e2b1-59f4-4d19-8205-db9e9bd5cf98",
   "metadata": {},
   "source": [
    "# Enriching Stock Market Data to Make Predictions Via OpenAI's API\n",
    "\n",
    "## Introduction\n",
    "In this project we'll use OpenAI's ChatGPT and data analytics to explore the NASDAQ 100 stock market. By the end, we should be able to identify investment opportunities and sector trends through stock price analysis and AI recommendations.\n",
    "\n",
    "## Data Files Overview\n",
    "Our analysis is grounded in two primary data sources:\n",
    "\n",
    "- NASDAQ 100 List (```nasdaq100.csv```): This file contains a comprehensive list of companies within the NASDAQ 100 index, detailing essential information such as company names and symbols. \n",
    "\n",
    "- NASDAQ 100 Price Change (```nasdaq100_price_change.csv```): Complementing our company list, this file tracks the year-to-date (YTD) price changes for each company. This dynamic data allows us to assess performance trends and identify standout performers within the index.\n"
   ]
  },
  {
   "cell_type": "markdown",
   "id": "47a929e3-0abd-4227-87fd-ead29a6a622e",
   "metadata": {},
   "source": [
    "## Setup and Initialization\r\n",
    "In this section, we begin our project by setting up our environment. This involves two crucial steps:\r",
    "1. **Importing Necessary Libraries**: We import Python libraries essential for data manipulation, analysis, and interaction with the OpenAI API. This step is foundational, as these libraries provide the tools needed to handle datasets and communicate with external APIs.\r\n",
    "\r\n",
    "2. **API Key Initialization**: We initialize the OpenAI API key, which is required for authenticating our requests to the OpenAI API. This API key allows us to use OpenAI's capabilities for generating stock recommendations based on our analysis.\r\n",
    "ysis.\r\n",
    "\r\n",
    "By completing these steps, we ensure that our environment is prepared with the necessary tools and permissions to proceed with the data analysis and integration with OpenAI's\n",
    "\n",
    "- *Note*: See README.md for help setting up environmental variables to use your own OpenAI API key. services."
   ]
  },
  {
   "cell_type": "code",
   "execution_count": 1,
   "id": "bc4de998-5329-4f49-b58f-77ca00845ea6",
   "metadata": {},
   "outputs": [],
   "source": [
    "import os\n",
    "import pandas as pd\n",
    "import openai\n",
    "\n",
    "api_key = os.getenv('stock_market_project')\n",
    "# print(api_key)\n"
   ]
  },
  {
   "cell_type": "code",
   "execution_count": 2,
   "id": "eb79a9cb-8558-4a88-aedf-7dac43615d61",
   "metadata": {},
   "outputs": [],
   "source": [
    "# Initialize your API key\n",
    "openai.api_key = api_key"
   ]
  },
  {
   "cell_type": "markdown",
   "id": "087a10a2-a299-4c29-8298-e73eede782a2",
   "metadata": {},
   "source": [
    "## Data Loading and Merging\n",
    "\n",
    "In this section, we focus on loading and preparing our datasets for analysis:\n",
    "\n",
    "1. **Loading Datasets**: We start by reading in two crucial datasets: nasdaq100.csv, which contains information about companies listed in the NASDAQ 100 index, and nasdaq100_price_change.csv, which details the year-to-date (YTD) price changes of these companies.\n",
    "\n",
    "2. **Merging Data**: To enrich our analysis, we merge these datasets on the symbol column, ensuring that we have both the company information and their respective YTD price changes in a single dataset. This step is vital for a holistic analysis as it combines static company information with dynamic financial performance indicators.\n",
    "\n",
    "3. **Data Preview**: Finally, we preview the combined dataset to ensure the merge was successful and to get an initial sense of the data structure and contents."
   ]
  },
  {
   "cell_type": "code",
   "execution_count": 3,
   "id": "c39e852d-11a1-487b-bd55-520a1300a824",
   "metadata": {},
   "outputs": [
    {
     "data": {
      "text/html": [
       "<div>\n",
       "<style scoped>\n",
       "    .dataframe tbody tr th:only-of-type {\n",
       "        vertical-align: middle;\n",
       "    }\n",
       "\n",
       "    .dataframe tbody tr th {\n",
       "        vertical-align: top;\n",
       "    }\n",
       "\n",
       "    .dataframe thead th {\n",
       "        text-align: right;\n",
       "    }\n",
       "</style>\n",
       "<table border=\"1\" class=\"dataframe\">\n",
       "  <thead>\n",
       "    <tr style=\"text-align: right;\">\n",
       "      <th></th>\n",
       "      <th>symbol</th>\n",
       "      <th>name</th>\n",
       "      <th>headQuarter</th>\n",
       "      <th>dateFirstAdded</th>\n",
       "      <th>cik</th>\n",
       "      <th>founded</th>\n",
       "      <th>ytd</th>\n",
       "    </tr>\n",
       "  </thead>\n",
       "  <tbody>\n",
       "    <tr>\n",
       "      <th>0</th>\n",
       "      <td>AAPL</td>\n",
       "      <td>Apple Inc.</td>\n",
       "      <td>Cupertino, CA</td>\n",
       "      <td>NaN</td>\n",
       "      <td>320193</td>\n",
       "      <td>1976-04-01</td>\n",
       "      <td>42.99992</td>\n",
       "    </tr>\n",
       "    <tr>\n",
       "      <th>1</th>\n",
       "      <td>ABNB</td>\n",
       "      <td>Airbnb</td>\n",
       "      <td>San Francisco, CA</td>\n",
       "      <td>NaN</td>\n",
       "      <td>1559720</td>\n",
       "      <td>2008-08-01</td>\n",
       "      <td>68.66902</td>\n",
       "    </tr>\n",
       "    <tr>\n",
       "      <th>2</th>\n",
       "      <td>ADBE</td>\n",
       "      <td>Adobe Inc.</td>\n",
       "      <td>San Jose, CA</td>\n",
       "      <td>NaN</td>\n",
       "      <td>796343</td>\n",
       "      <td>1982-12-01</td>\n",
       "      <td>57.22723</td>\n",
       "    </tr>\n",
       "    <tr>\n",
       "      <th>3</th>\n",
       "      <td>ADI</td>\n",
       "      <td>Analog Devices</td>\n",
       "      <td>Wilmington, MA</td>\n",
       "      <td>NaN</td>\n",
       "      <td>6281</td>\n",
       "      <td>1965-01-01</td>\n",
       "      <td>17.02062</td>\n",
       "    </tr>\n",
       "    <tr>\n",
       "      <th>4</th>\n",
       "      <td>ADP</td>\n",
       "      <td>ADP</td>\n",
       "      <td>Roseland, NJ</td>\n",
       "      <td>NaN</td>\n",
       "      <td>8670</td>\n",
       "      <td>1949-01-01</td>\n",
       "      <td>5.53732</td>\n",
       "    </tr>\n",
       "  </tbody>\n",
       "</table>\n",
       "</div>"
      ],
      "text/plain": [
       "  symbol            name        headQuarter  dateFirstAdded      cik  \\\n",
       "0   AAPL      Apple Inc.      Cupertino, CA             NaN   320193   \n",
       "1   ABNB          Airbnb  San Francisco, CA             NaN  1559720   \n",
       "2   ADBE      Adobe Inc.       San Jose, CA             NaN   796343   \n",
       "3    ADI  Analog Devices     Wilmington, MA             NaN     6281   \n",
       "4    ADP             ADP       Roseland, NJ             NaN     8670   \n",
       "\n",
       "      founded       ytd  \n",
       "0  1976-04-01  42.99992  \n",
       "1  2008-08-01  68.66902  \n",
       "2  1982-12-01  57.22723  \n",
       "3  1965-01-01  17.02062  \n",
       "4  1949-01-01   5.53732  "
      ]
     },
     "execution_count": 3,
     "metadata": {},
     "output_type": "execute_result"
    }
   ],
   "source": [
    "# Read in the two datasets\n",
    "nasdaq100 = pd.read_csv(\"nasdaq100.csv\")\n",
    "price_change = pd.read_csv(\"nasdaq100_price_change.csv\")\n",
    "\n",
    "# Add symbol into nasdaq100\n",
    "nasdaq100 = nasdaq100.merge(price_change[[\"symbol\", \"ytd\"]], on=\"symbol\", how=\"inner\")\n",
    "\n",
    "# Preview the combined dataset\n",
    "nasdaq100.head()"
   ]
  },
  {
   "cell_type": "markdown",
   "id": "a6e8367e-1dd9-4bb3-8ba7-923aa74db5f7",
   "metadata": {},
   "source": [
    "## Sector Classification via AI\n",
    "Adds 'Sector' to companies, leveraging AI for classification:\n",
    "\n",
    "1. **Check and Add 'Sector'**: Ensures a 'Sector' column exists, adding if absent.\n",
    "   \n",
    "2. **AI-Powered Classification**: For each company, an AI model classifies it into a specific sector based on a dynamic prompt, updating the dataset with these insights. This process systematically enriches the dataset with sector information, facilitating detailed sector-based analysis."
   ]
  },
  {
   "cell_type": "code",
   "execution_count": 4,
   "id": "529c9619-fc19-4252-90ca-86064de82114",
   "metadata": {},
   "outputs": [],
   "source": [
    "# Add a new column for Sector if it doesn't exist\n",
    "if \"Sector\" not in nasdaq100.columns:\n",
    "    nasdaq100[\"Sector\"] = pd.NA\n",
    "    \n",
    "# Loop through the NASDAQ companies\n",
    "for company in nasdaq100[\"symbol\"]:\n",
    "    # Dynamically create a prompt for each company\n",
    "    dynamic_prompt = f'''Classify company {company} into one of the following sectors. Answer only with the sector name: Technology, Consumer Cyclical, Industrials, Utilities, Healthcare, Communication, Energy, Consumer Defensive, Real Estate, Financial.'''\n",
    "\n",
    "    # Create a response from ChatGPT\n",
    "    response = openai.ChatCompletion.create(\n",
    "        model=\"gpt-3.5-turbo\",\n",
    "        messages=[{\"role\": \"user\", \"content\": dynamic_prompt}],\n",
    "        temperature=0.0,\n",
    "    )\n",
    "    # Extract the sector from the response\n",
    "    sector = response['choices'][0]['message']['content'].strip()\n",
    "    \n",
    "    # Add the sector to the corresponding company in the DataFrame\n",
    "    nasdaq100.loc[nasdaq100[\"symbol\"] == company, \"Sector\"] = sector\n"
   ]
  },
  {
   "cell_type": "code",
   "execution_count": 5,
   "id": "e2e3978a-9f6e-4f3c-9287-1b039daece29",
   "metadata": {},
   "outputs": [],
   "source": [
    "# Example of how to prepare company_data\n",
    "company_data_list = nasdaq100.apply(lambda x: f\"{x['symbol']} in the {x['Sector']} sector has a YTD performance of {x['ytd']}\", axis=1).tolist()\n",
    "company_data = \" \".join(company_data_list)\n"
   ]
  },
  {
   "cell_type": "markdown",
   "id": "fa440563-784d-49e1-9fa3-da93f37f3bd1",
   "metadata": {},
   "source": [
    "## Generating Stock Recommendations with AI\n",
    "We craft a prompt to guide AI in offering stock investment insights:\n",
    "\n",
    "1. **Prompt Creation**: We formulate a prompt with company_data for the OpenAI API, requesting the top sectors and companies based on YTD performance.\n",
    "\n",
    "2. **Model Interaction**: The prompt is sent to OpenAI's model, fetching tailored stock recommendations.\n",
    "\n",
    "This process exemplifies leveraging AI for strategic investment advice, directly linking data analysis to actionable insights."
   ]
  },
  {
   "cell_type": "code",
   "execution_count": 6,
   "id": "61f91ba9-d746-42b3-b0ab-b5930a5c092f",
   "metadata": {},
   "outputs": [
    {
     "name": "stdout",
     "output_type": "stream",
     "text": [
      "Based on the YTD performance data provided, the three best sectors for stock performance are:\n",
      "\n",
      "1. Technology sector:\n",
      "   - NVDA (YTD performance: 217.26511)\n",
      "   - AMD (YTD performance: 82.45861)\n",
      "   - MRVL (YTD performance: 76.57683)\n",
      "   - ABNB (YTD performance: 68.66902)\n",
      "   - LRCX (YTD performance: 70.25344)\n",
      "\n",
      "2. Healthcare sector:\n",
      "   - ALGN (YTD performance: 70.17618)\n",
      "   - MRVL (YTD performance: 76.57683)\n",
      "   - SGEN (YTD performance: 50.4662)\n",
      "   - IDXX (YTD performance: 25.20381)\n",
      "   - ISRG (YTD performance: 16.41757)\n",
      "\n",
      "3. Consumer Cyclical sector:\n",
      "   - TSLA (YTD performance: 132.6087)\n",
      "   - MELI (YTD performance: 64.48294)\n",
      "   - BKNG (YTD performance: 59.58046)\n",
      "   - MAR (YTD performance: 38.54484)\n",
      "   - LULU (YTD performance: 18.2819)\n",
      "\n",
      "Please note that these recommendations are based solely on the YTD performance data provided and do not take into account other factors such as financial health, market conditions, or future prospects of the companies. It is important to conduct thorough research and analysis before making any investment decisions.\n"
     ]
    }
   ],
   "source": [
    "# Create a prompt for stock recommendations including the dynamically created company_data\n",
    "recommendation_prompt = f'''Based on the following Nasdaq-100 company data, recommend the three best sectors and three or more companies per sector for stock performance year to date (YTD):\n",
    "{company_data}\n",
    "'''\n",
    "\n",
    "# Get the model response\n",
    "response = openai.ChatCompletion.create(\n",
    "    model=\"gpt-3.5-turbo\",\n",
    "    messages=[{\"role\": \"user\", \"content\": recommendation_prompt}],\n",
    "    temperature=0.0,\n",
    ")\n",
    "\n",
    "# Extract and print the stock recommendations\n",
    "stock_recommendations = response['choices'][0]['message']['content']\n",
    "print(stock_recommendations)\n"
   ]
  },
  {
   "cell_type": "markdown",
   "id": "37cf3e5f-a37a-4e34-9ba9-4937cb68f740",
   "metadata": {},
   "source": [
    "## Conclusion\n",
    "The analysis indicates that the Technology, Healthcare, and Consumer Cyclical sectors have outperformed others based on year-to-date (YTD) performance. Within these sectors, NVDA leads Technology with significant growth, while TSLA stands out in Consumer Cyclical, and the Healthcare sector shows strong performance from ALGN and MRVL. These results highlight sectoral strengths and potential investment opportunities, emphasizing the importance of comprehensive research beyond YTD performance for informed decision-making"
   ]
  }
 ],
 "metadata": {
  "kernelspec": {
   "display_name": "Python 3 (ipykernel)",
   "language": "python",
   "name": "python3"
  },
  "language_info": {
   "codemirror_mode": {
    "name": "ipython",
    "version": 3
   },
   "file_extension": ".py",
   "mimetype": "text/x-python",
   "name": "python",
   "nbconvert_exporter": "python",
   "pygments_lexer": "ipython3",
   "version": "3.9.2"
  }
 },
 "nbformat": 4,
 "nbformat_minor": 5
}
